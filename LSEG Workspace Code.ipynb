{
 "cells": [
  {
   "cell_type": "code",
   "execution_count": 1,
   "id": "3b190f93-21ec-474b-a2aa-b24346f2fdf9",
   "metadata": {},
   "outputs": [],
   "source": [
    "import refinitiv.data as rd\n",
    "from refinitiv.data.content import historical_pricing as hp\n"
   ]
  },
  {
   "cell_type": "code",
   "execution_count": 3,
   "id": "08652a4e-3e1a-4e1c-977c-7ba8da2a4ce3",
   "metadata": {},
   "outputs": [
    {
     "data": {
      "text/plain": [
       "'\\n#Start Refinitiv Session\\nrd.open_session(app_key=\"2ad05903f7cb4f84b75e13735fb71abde98f7d85\")\\n'"
      ]
     },
     "execution_count": 3,
     "metadata": {},
     "output_type": "execute_result"
    }
   ],
   "source": [
    "\"\"\"\n",
    "#Start Refinitiv Session\n",
    "rd.open_session(app_key=\"2ad05903f7cb4f84b75e13735fb71abde98f7d85\")\n",
    "\"\"\""
   ]
  },
  {
   "cell_type": "code",
   "execution_count": 5,
   "id": "8ed41be1-4082-4de9-afbb-03e3cdbd6e68",
   "metadata": {},
   "outputs": [
    {
     "data": {
      "text/plain": [
       "'\\n#Define instruments and Date range\\nSTART_DATE = \"2006-01-01\"\\nEND_DATE = \"2025-06-30\"\\n\\n# Replace these placeholders with the actual Refinitiv RICs \\nSPX_PROXY_RIC     = \"SPY.P\"   # S&P 500 ETF (proxy for .SPX)\\nDOLLAR_INDEX_RIC  = \".DXY\"    # Dollar Index\\nWTI_OIL_RIC       = \"CLc1\"    # WTI Crude Oil Futures (continuous contract)\\n'"
      ]
     },
     "execution_count": 5,
     "metadata": {},
     "output_type": "execute_result"
    }
   ],
   "source": [
    "\"\"\"\n",
    "#Define instruments and Date range\n",
    "START_DATE = \"2006-01-01\"\n",
    "END_DATE = \"2025-06-30\"\n",
    "\n",
    "# Replace these placeholders with the actual Refinitiv RICs \n",
    "SPX_PROXY_RIC     = \"SPY.P\"   # S&P 500 ETF (proxy for .SPX)\n",
    "DOLLAR_INDEX_RIC  = \".DXY\"    # Dollar Index\n",
    "WTI_OIL_RIC       = \"CLc1\"    # WTI Crude Oil Futures (continuous contract)\n",
    "\"\"\""
   ]
  },
  {
   "cell_type": "code",
   "execution_count": 7,
   "id": "d5a750a5-2162-4556-a6b7-fd0b3cfe68c9",
   "metadata": {},
   "outputs": [
    {
     "data": {
      "text/plain": [
       "'\\n#Obtain required data\\n# --- 1. S&P 500 OHLCV ---\\ndf_spx_raw = hp.summaries.Definition(\\n    universe=SPX_PROXY_RIC,\\n    fields=[\"OPEN\", \"HIGH\", \"LOW\", \"CLOSE\", \"VOLUME\"],\\n    interval=hp.Intervals.DAILY,\\n    start=START_DATE,\\n    end=END_DATE\\n).get_data()\\n\\n# --- 2. Dollar Index & WTI Oil (Closing Prices) ---\\ndf_macro_raw = hp.summaries.Definition(\\n    universe=[DOLLAR_INDEX_RIC, WTI_OIL_RIC],\\n    fields=[\"CLOSE\"],\\n    interval=hp.Intervals.DAILY,\\n    start=START_DATE,\\n    end=END_DATE\\n).get_data()\\n\\n# Output checks\\nprint(\"S&P 500 Raw DataFrame (df_spx_raw):\")\\nprint(df_spx_raw.head())\\n\\nprint(\"\\nMacro Raw DataFrame (df_macro_raw):\")\\nprint(df_macro_raw.head())\\n'"
      ]
     },
     "execution_count": 7,
     "metadata": {},
     "output_type": "execute_result"
    }
   ],
   "source": [
    "#import refinitiv.data as rd\n",
    "#print(\"Refinitiv Data Library version:\", rd.__version__)\n",
    "\n",
    "#print(dir(hp))\n",
    "\n",
    "\"\"\"\n",
    "from refinitiv.data.content import pricing\n",
    "\n",
    "# request latest snapshot for Apple\n",
    "snap = pricing.Definition(universe=\"AAPL.O\").get_data()\n",
    "print(snap)\n",
    "\"\"\"\n",
    "\n",
    "\"\"\"\n",
    "#Obtain required data\n",
    "# --- 1. S&P 500 OHLCV ---\n",
    "df_spx_raw = hp.summaries.Definition(\n",
    "    universe=SPX_PROXY_RIC,\n",
    "    fields=[\"OPEN\", \"HIGH\", \"LOW\", \"CLOSE\", \"VOLUME\"],\n",
    "    interval=hp.Intervals.DAILY,\n",
    "    start=START_DATE,\n",
    "    end=END_DATE\n",
    ").get_data()\n",
    "\n",
    "# --- 2. Dollar Index & WTI Oil (Closing Prices) ---\n",
    "df_macro_raw = hp.summaries.Definition(\n",
    "    universe=[DOLLAR_INDEX_RIC, WTI_OIL_RIC],\n",
    "    fields=[\"CLOSE\"],\n",
    "    interval=hp.Intervals.DAILY,\n",
    "    start=START_DATE,\n",
    "    end=END_DATE\n",
    ").get_data()\n",
    "\n",
    "# Output checks\n",
    "print(\"S&P 500 Raw DataFrame (df_spx_raw):\")\n",
    "print(df_spx_raw.head())\n",
    "\n",
    "print(\"\\nMacro Raw DataFrame (df_macro_raw):\")\n",
    "print(df_macro_raw.head())\n",
    "\"\"\""
   ]
  },
  {
   "cell_type": "code",
   "execution_count": null,
   "id": "4e569539-bbc5-456f-a64a-15a09e7e18aa",
   "metadata": {},
   "outputs": [],
   "source": []
  }
 ],
 "metadata": {
  "kernelspec": {
   "display_name": "Python (LSTM_Research_Project)",
   "language": "python",
   "name": "lstm_research_project"
  },
  "language_info": {
   "codemirror_mode": {
    "name": "ipython",
    "version": 3
   },
   "file_extension": ".py",
   "mimetype": "text/x-python",
   "name": "python",
   "nbconvert_exporter": "python",
   "pygments_lexer": "ipython3",
   "version": "3.12.11"
  }
 },
 "nbformat": 4,
 "nbformat_minor": 5
}
