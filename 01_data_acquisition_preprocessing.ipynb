{
 "cells": [
  {
   "cell_type": "code",
   "execution_count": 49,
   "id": "9df2ba3b-890b-4272-9dce-9ba8bd9006ae",
   "metadata": {},
   "outputs": [],
   "source": [
    "# LSEG/Refinitive Data Acquisition of Required Data\n",
    "#Target Period: 2006-01-01 to 2025-06-30\n",
    "\n",
    "#Imports\n",
    "#Import Refinitiv data library for data acquisition\n",
    "import pandas as pd\n",
    "import numpy as np\n",
    "import yfinance as yf\n",
    "import refinitiv.data as rd\n",
    "from refinitiv.data.content import historical_pricing as hp"
   ]
  },
  {
   "cell_type": "code",
   "execution_count": 51,
   "id": "361cb4a9-2e3d-4d03-962e-9ec664a4fa23",
   "metadata": {},
   "outputs": [
    {
     "data": {
      "text/plain": [
       "'\\n#Start Refinitiv Session\\nrd.open_session(app_key=\"2ad05903f7cb4f84b75e13735fb71abde98f7d85\")\\n'"
      ]
     },
     "execution_count": 51,
     "metadata": {},
     "output_type": "execute_result"
    }
   ],
   "source": [
    "\"\"\"\n",
    "#Start Refinitiv Session\n",
    "rd.open_session(app_key=\"2ad05903f7cb4f84b75e13735fb71abde98f7d85\")\n",
    "\"\"\""
   ]
  },
  {
   "cell_type": "code",
   "execution_count": 52,
   "id": "629c95b0-9c8d-406d-a32a-7185a555a6cb",
   "metadata": {},
   "outputs": [
    {
     "data": {
      "text/plain": [
       "'\\n#Define instruments and Date range\\nSTART_DATE = \"2006-01-01\"\\nEND_DATE = \"2025-06-30\"\\n\\n# Replace these placeholders with the actual Refinitiv RICs \\nSPX_PROXY_RIC     = \"SPY.P\"   # S&P 500 ETF (proxy for .SPX)\\nDOLLAR_INDEX_RIC  = \".DXY\"    # Dollar Index\\nWTI_OIL_RIC       = \"CLc1\"    # WTI Crude Oil Futures (continuous contract)\\n'"
      ]
     },
     "execution_count": 52,
     "metadata": {},
     "output_type": "execute_result"
    }
   ],
   "source": [
    "\"\"\"\n",
    "#Define instruments and Date range\n",
    "START_DATE = \"2006-01-01\"\n",
    "END_DATE = \"2025-06-30\"\n",
    "\n",
    "# Replace these placeholders with the actual Refinitiv RICs \n",
    "SPX_PROXY_RIC     = \"SPY.P\"   # S&P 500 ETF (proxy for .SPX)\n",
    "DOLLAR_INDEX_RIC  = \".DXY\"    # Dollar Index\n",
    "WTI_OIL_RIC       = \"CLc1\"    # WTI Crude Oil Futures (continuous contract)\n",
    "\"\"\""
   ]
  },
  {
   "cell_type": "code",
   "execution_count": 53,
   "id": "a4dcdd68-86a7-4d0d-adf6-118cf465a89f",
   "metadata": {},
   "outputs": [],
   "source": [
    "#import refinitiv.data as rd\n",
    "#print(\"Refinitiv Data Library version:\", rd.__version__)"
   ]
  },
  {
   "cell_type": "code",
   "execution_count": 54,
   "id": "11f9a41b-7c74-4e2b-ae48-c19b7f88f9cd",
   "metadata": {},
   "outputs": [],
   "source": [
    "#print(dir(hp))"
   ]
  },
  {
   "cell_type": "code",
   "execution_count": 55,
   "id": "0971608d-522d-441b-84cf-8794dc93d6b6",
   "metadata": {},
   "outputs": [
    {
     "data": {
      "text/plain": [
       "'\\nfrom refinitiv.data.content import pricing\\n\\n# request latest snapshot for Apple\\nsnap = pricing.Definition(universe=\"AAPL.O\").get_data()\\nprint(snap)\\n'"
      ]
     },
     "execution_count": 55,
     "metadata": {},
     "output_type": "execute_result"
    }
   ],
   "source": [
    "\"\"\"\n",
    "from refinitiv.data.content import pricing\n",
    "\n",
    "# request latest snapshot for Apple\n",
    "snap = pricing.Definition(universe=\"AAPL.O\").get_data()\n",
    "print(snap)\n",
    "\"\"\""
   ]
  },
  {
   "cell_type": "code",
   "execution_count": 56,
   "id": "13dfb0b1-d5c3-4f8f-930b-de1388064d71",
   "metadata": {},
   "outputs": [
    {
     "data": {
      "text/plain": [
       "'\\n#Obtain required data\\n# --- 1. S&P 500 OHLCV ---\\ndf_spx_raw = hp.summaries.Definition(\\n    universe=SPX_PROXY_RIC,\\n    fields=[\"OPEN\", \"HIGH\", \"LOW\", \"CLOSE\", \"VOLUME\"],\\n    interval=hp.Intervals.DAILY,\\n    start=START_DATE,\\n    end=END_DATE\\n).get_data()\\n\\n# --- 2. Dollar Index & WTI Oil (Closing Prices) ---\\ndf_macro_raw = hp.summaries.Definition(\\n    universe=[DOLLAR_INDEX_RIC, WTI_OIL_RIC],\\n    fields=[\"CLOSE\"],\\n    interval=hp.Intervals.DAILY,\\n    start=START_DATE,\\n    end=END_DATE\\n).get_data()\\n\\n# Output checks\\nprint(\"S&P 500 Raw DataFrame (df_spx_raw):\")\\nprint(df_spx_raw.head())\\n\\nprint(\"\\nMacro Raw DataFrame (df_macro_raw):\")\\nprint(df_macro_raw.head())\\n'"
      ]
     },
     "execution_count": 56,
     "metadata": {},
     "output_type": "execute_result"
    }
   ],
   "source": [
    "\"\"\"\n",
    "#Obtain required data\n",
    "# --- 1. S&P 500 OHLCV ---\n",
    "df_spx_raw = hp.summaries.Definition(\n",
    "    universe=SPX_PROXY_RIC,\n",
    "    fields=[\"OPEN\", \"HIGH\", \"LOW\", \"CLOSE\", \"VOLUME\"],\n",
    "    interval=hp.Intervals.DAILY,\n",
    "    start=START_DATE,\n",
    "    end=END_DATE\n",
    ").get_data()\n",
    "\n",
    "# --- 2. Dollar Index & WTI Oil (Closing Prices) ---\n",
    "df_macro_raw = hp.summaries.Definition(\n",
    "    universe=[DOLLAR_INDEX_RIC, WTI_OIL_RIC],\n",
    "    fields=[\"CLOSE\"],\n",
    "    interval=hp.Intervals.DAILY,\n",
    "    start=START_DATE,\n",
    "    end=END_DATE\n",
    ").get_data()\n",
    "\n",
    "# Output checks\n",
    "print(\"S&P 500 Raw DataFrame (df_spx_raw):\")\n",
    "print(df_spx_raw.head())\n",
    "\n",
    "print(\"\\nMacro Raw DataFrame (df_macro_raw):\")\n",
    "print(df_macro_raw.head())\n",
    "\"\"\""
   ]
  },
  {
   "cell_type": "code",
   "execution_count": 58,
   "id": "120b0669-fbe8-4962-ba2b-5e47173eb392",
   "metadata": {},
   "outputs": [
    {
     "name": "stderr",
     "output_type": "stream",
     "text": [
      "C:\\Users\\josep\\AppData\\Local\\Temp\\ipykernel_50828\\3065575225.py:6:FutureWarning: YF.download() has changed argument auto_adjust default to True\n",
      "[*********************100%***********************]  1 of 1 completed\n",
      "C:\\Users\\josep\\AppData\\Local\\Temp\\ipykernel_50828\\3065575225.py:9:FutureWarning: YF.download() has changed argument auto_adjust default to True\n",
      "[*********************100%***********************]  1 of 1 completed\n",
      "C:\\Users\\josep\\AppData\\Local\\Temp\\ipykernel_50828\\3065575225.py:12:FutureWarning: YF.download() has changed argument auto_adjust default to True\n",
      "[*********************100%***********************]  1 of 1 completed"
     ]
    },
    {
     "name": "stdout",
     "output_type": "stream",
     "text": [
      "Price           Close       High        Low       Open    Volume\n",
      "Ticker            SPY        SPY        SPY        SPY       SPY\n",
      "Date                                                            \n",
      "2006-01-03  87.721733  87.929443  86.122388  86.676277  73256700\n",
      "2006-01-04  88.137161  88.268706  87.721742  87.832522  51899600\n",
      "2006-01-05  88.192497  88.337892  87.846319  88.033258  47307500\n",
      "2006-01-06  88.926437  89.023367  88.178690  88.635648  62885900\n",
      "2006-01-09  89.154892  89.355671  88.884873  88.912563  43527400\n",
      "Price           Close       High        Low       Open   Volume\n",
      "Ticker       DX-Y.NYB   DX-Y.NYB   DX-Y.NYB   DX-Y.NYB DX-Y.NYB\n",
      "Date                                                           \n",
      "2006-01-03  89.839996  90.940002  89.779999  90.750000        0\n",
      "2006-01-04  89.139999  89.860001  89.010002  89.730003        0\n",
      "2006-01-05  89.330002  89.629997  89.180000  89.269997        0\n",
      "2006-01-06  88.849998  89.629997  88.800003  89.349998        0\n",
      "2006-01-09  89.250000  89.449997  88.809998  88.959999        0\n",
      "Price           Close       High        Low       Open  Volume\n",
      "Ticker           CL=F       CL=F       CL=F       CL=F    CL=F\n",
      "Date                                                          \n",
      "2006-01-03  63.139999  63.799999  60.810001  61.040001  130635\n",
      "2006-01-04  63.419998  63.650002  62.259998  63.000000  105194\n",
      "2006-01-05  62.790001  63.799999  62.599998  63.400002  104035\n",
      "2006-01-06  64.209999  64.449997  62.599998  62.599998  110763\n",
      "2006-01-09  63.500000  64.610001  62.900002  64.150002  115558\n"
     ]
    },
    {
     "name": "stderr",
     "output_type": "stream",
     "text": [
      "\n"
     ]
    }
   ],
   "source": [
    "#Define instruments and Date range\n",
    "start = \"2006-01-01\"\n",
    "end = \"2025-06-30\"\n",
    "\n",
    "# S&P500 ETF (proxy)\n",
    "df_spx_raw = yf.download(\"SPY\", start=start, end=end)\n",
    "\n",
    "# Dollar Index (Yahoo ticker: DX-Y.NYB)\n",
    "df_dxy = yf.download(\"DX-Y.NYB\", start=start, end=end)\n",
    "\n",
    "# WTI Oil Futures (Yahoo ticker: CL=F)\n",
    "df_wti = yf.download(\"CL=F\", start=start, end=end)\n",
    "\n",
    "print(df_spx_raw.head())\n",
    "print(df_dxy.head())\n",
    "print(df_wti.head())"
   ]
  },
  {
   "cell_type": "code",
   "execution_count": null,
   "id": "ae000bfa-aec6-473d-94f7-97f36b508154",
   "metadata": {},
   "outputs": [],
   "source": []
  }
 ],
 "metadata": {
  "kernelspec": {
   "display_name": "Python (LSTM_Research_Project)",
   "language": "python",
   "name": "lstm_research_project"
  },
  "language_info": {
   "codemirror_mode": {
    "name": "ipython",
    "version": 3
   },
   "file_extension": ".py",
   "mimetype": "text/x-python",
   "name": "python",
   "nbconvert_exporter": "python",
   "pygments_lexer": "ipython3",
   "version": "3.12.11"
  }
 },
 "nbformat": 4,
 "nbformat_minor": 5
}
